{
  "cells": [
    {
      "cell_type": "markdown",
      "source": [
        "Importing required libraries"
      ],
      "metadata": {
        "id": "3siwocQRJ2Ro"
      }
    },
    {
      "cell_type": "code",
      "source": [
        "import numpy as np\n",
        "import nltk\n",
        "import string\n",
        "import random"
      ],
      "metadata": {
        "id": "ciOVs1e9JpDu"
      },
      "execution_count": 10,
      "outputs": []
    },
    {
      "cell_type": "markdown",
      "source": [
        "Importing and reading the corpus\n"
      ],
      "metadata": {
        "id": "aeMjQYFQJ8hB"
      }
    },
    {
      "cell_type": "code",
      "source": [
        "f=open('yugas.txt','r',errors = 'ignore')\n",
        "raw_doc=f.read()\n",
        "raw_doc=raw_doc.lower()#coverts text to lower case\n",
        "nltk.download('punkt')#Using the  punkt tokenizer\n",
        "nltk.download('wordnet')#Using the WordNet dictionary\n",
        "sent_tokens=nltk.sent_tokenize(raw_doc)#coverts doc to list of sentence\n",
        "word_tokens=nltk.word_tokenize(raw_doc)#coverts doc to list of words"
      ],
      "metadata": {
        "colab": {
          "base_uri": "https://localhost:8080/"
        },
        "id": "WlR4WxQeJyGw",
        "outputId": "111e0a80-9619-417c-aa66-252465ff9c48"
      },
      "execution_count": 11,
      "outputs": [
        {
          "output_type": "stream",
          "name": "stderr",
          "text": [
            "[nltk_data] Downloading package punkt to /root/nltk_data...\n",
            "[nltk_data]   Unzipping tokenizers/punkt.zip.\n",
            "[nltk_data] Downloading package wordnet to /root/nltk_data...\n"
          ]
        }
      ]
    },
    {
      "cell_type": "markdown",
      "source": [
        "Example of sentence tokens\n"
      ],
      "metadata": {
        "id": "aJhjSrjWKHJw"
      }
    },
    {
      "cell_type": "markdown",
      "source": [],
      "metadata": {
        "id": "-vh3UTVfKCKL"
      }
    },
    {
      "cell_type": "code",
      "source": [
        "sent_tokens[:2]"
      ],
      "metadata": {
        "colab": {
          "base_uri": "https://localhost:8080/"
        },
        "id": "Tg9ADis_KBb_",
        "outputId": "2addfdfa-474c-45e0-b6aa-93e7f91fec80"
      },
      "execution_count": 12,
      "outputs": [
        {
          "output_type": "execute_result",
          "data": {
            "text/plain": [
              "['om mitraay nam:, om ravaye nam\\nparitranaya sadhunam, vinashaya cha dushkritam, dharmasamsthapanaarthaya, sambhavami yuge yuge!\"',\n",
              " '\"for the protection of good and the destruction of evil,\\nfor the purpose of reinstating righteousness, i shall incarnate in every yuga!\"']"
            ]
          },
          "metadata": {},
          "execution_count": 12
        }
      ]
    },
    {
      "cell_type": "markdown",
      "source": [
        "Example of word tokens"
      ],
      "metadata": {
        "id": "KauSrCriKN3s"
      }
    },
    {
      "cell_type": "code",
      "source": [
        "word_tokens[:2]"
      ],
      "metadata": {
        "colab": {
          "base_uri": "https://localhost:8080/"
        },
        "id": "_vYbteD6KS0M",
        "outputId": "75f878d8-9179-44d4-8d77-2232ed16060f"
      },
      "execution_count": 13,
      "outputs": [
        {
          "output_type": "execute_result",
          "data": {
            "text/plain": [
              "['om', 'mitraay']"
            ]
          },
          "metadata": {},
          "execution_count": 13
        }
      ]
    },
    {
      "cell_type": "markdown",
      "source": [
        "Text preprocessing"
      ],
      "metadata": {
        "id": "VJs9_d8OKaTg"
      }
    },
    {
      "cell_type": "code",
      "source": [
        "lemmer=nltk.stem.WordNetLemmatizer()\n",
        "#wordNet is a semmantically-oriented dictionary of english included in NLTK\n",
        "def LemTokens(tokens):\n",
        "  return [lemmer.lemmatize(token) for token in tokens]\n",
        "remove_punct_dict=dict((ord(punct), None) for punct in string.punctuation)\n",
        "def LemNormalize(text):\n",
        "  return LemTokens(nltk.word_tokenize(text.lower().translate(remove_punct_dict)))"
      ],
      "metadata": {
        "id": "EdCMeBO3KbW8"
      },
      "execution_count": 14,
      "outputs": []
    },
    {
      "cell_type": "markdown",
      "source": [
        "Defining the greeting function"
      ],
      "metadata": {
        "id": "WuSPiJiHKgBy"
      }
    },
    {
      "cell_type": "code",
      "source": [
        "GREET_INPUTS=(\"hello\", \"hi\", \"greetings\", \"sup\", \"whats up\", \"hey\")\n",
        "GREET_RESPONSES=[\"hi\", \"hey\", \"nods\", \"hi there\", \"hello\", \"I am glad! you are talking to me\"]\n",
        "def greet(sentence):\n",
        "  for word in sentence.split():\n",
        "    if word.lower() in GREET_INPUTS:\n",
        "      return random.choice(GREET_RESPONSES)"
      ],
      "metadata": {
        "id": "p3CgnZIgKjxv"
      },
      "execution_count": 15,
      "outputs": []
    },
    {
      "cell_type": "markdown",
      "source": [
        "Response generation"
      ],
      "metadata": {
        "id": "J-gHPoLKKqaW"
      }
    },
    {
      "cell_type": "code",
      "source": [
        "from sklearn.feature_extraction.text import TfidfVectorizer\n",
        "from sklearn.metrics.pairwise import cosine_similarity"
      ],
      "metadata": {
        "id": "nNDLy_DgKrXi"
      },
      "execution_count": 16,
      "outputs": []
    },
    {
      "cell_type": "code",
      "source": [
        "def response(user_response):\n",
        "  robo1_response=''\n",
        "  TfidfVec=TfidfVectorizer(tokenizer=LemNormalize, stop_words='english')\n",
        "  tfidf=TfidfVec.fit_transform(sent_tokens)\n",
        "  vals=cosine_similarity(tfidf[-1],tfidf)\n",
        "  idx=vals.argsort()[0][-2]\n",
        "  flat=vals.flatten()\n",
        "  flat.sort()\n",
        "  req_tfidf=flat[-2]\n",
        "  if(req_tfidf==0):\n",
        "    robo1_response=robo1_response+\"I am sorry ! I don't understand you\"\n",
        "    return robo1_response\n",
        "  else:\n",
        "    robo1_response=robo1_response+sent_tokens[idx]\n",
        "    return robo1_response\n"
      ],
      "metadata": {
        "id": "p_RpYd_BKycg"
      },
      "execution_count": 19,
      "outputs": []
    },
    {
      "cell_type": "markdown",
      "source": [
        "Defining converstion start/end protocols"
      ],
      "metadata": {
        "id": "ggWngiWGK0Jq"
      }
    },
    {
      "cell_type": "code",
      "source": [
        "flag=True\n",
        "print(\"BOT:My name is Ramya.Lets have conversation.Also if you want to exit anytime just type Bye!\")\n",
        "while(flag==True):\n",
        "  user_response=input()\n",
        "  user_response=user_response.lower()\n",
        "  if(user_response!='bye'):\n",
        "    if(user_response=='thanks' or user_response=='thank you'):\n",
        "      flag=False\n",
        "      print(\"BOT:You are welcome\")\n",
        "    else:\n",
        "      if(greet(user_response)!=None):\n",
        "        print(\"BOT: \"+greet(user_response))\n",
        "      else:\n",
        "        sent_tokens.append(user_response)\n",
        "        word_tokens=word_tokens+nltk.word_tokenize(user_response)\n",
        "        final_words=list(set(word_tokens))\n",
        "        print(\"BOT: \",end=\"\")\n",
        "        print(response(user_response))\n",
        "        sent_tokens.remove(user_response)\n",
        "  else:\n",
        "    flag=False\n",
        "    print(\"BOT: Good bye! Take care<3\")"
      ],
      "metadata": {
        "colab": {
          "base_uri": "https://localhost:8080/"
        },
        "id": "Pgb7rhclK5p_",
        "outputId": "e854494c-d4ee-4860-c693-029d15571c42"
      },
      "execution_count": 23,
      "outputs": [
        {
          "output_type": "stream",
          "name": "stdout",
          "text": [
            "BOT:My name is Ramya.Lets have conversation.Also if you want to exit anytime just type Bye!\n",
            "hi\n",
            "BOT: hi there\n",
            "yugas\n",
            "BOT: yugas:\n",
            "yugas are cyclical time periods which separate different \"ages\" of human civilizations.\n",
            "dashavatara\n",
            "BOT: dashavatara – the 10 avatars of lord vishnu:\n",
            "dashavatara (also spelled dashavatar) is a collective noun used for the 10 avatars (incarnations) of lord vishnu on the earth.\n",
            "matsya\n",
            "BOT: I am sorry ! I don't understand you\n",
            "kurma\n",
            "BOT: 2.kurma:\n",
            "kurmavatara (kurma means a turtle) means incarnation of lord vishnu as a turtle.\n",
            "varaha\n",
            "BOT: I am sorry ! I don't understand you\n",
            "vamana\n",
            "BOT: 5.vamana:\n",
            "vamana (means dwarf) avatar was the fifth incarnation of lord vishnu that took place in the treta yuga.\n",
            "rama\n",
            "BOT: 7.rama:\n",
            "lord rama was the seventh incarnation of narayana.\n",
            "buddha\n",
            "BOT: 9.buddha:\n",
            "as per hinduism, gautama buddha is the ninth incarnation of lord vishnu.\n",
            "what happens after kaliyuga\n",
            "BOT: it happens at the end of a kalpa of brahmas life.\n",
            "parashurama\n",
            "BOT: lord parashurama got a divine ax from lord shiva to kill kshatriyas who had forgotten their dharma.\n",
            "bye\n",
            "BOT: Good bye! Take care<3\n"
          ]
        }
      ]
    }
  ],
  "metadata": {
    "colab": {
      "name": "Welcome to Colaboratory",
      "provenance": []
    },
    "kernelspec": {
      "display_name": "Python 3",
      "name": "python3"
    }
  },
  "nbformat": 4,
  "nbformat_minor": 0
}